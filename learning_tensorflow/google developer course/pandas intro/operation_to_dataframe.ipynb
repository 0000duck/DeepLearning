{
 "cells": [
  {
   "cell_type": "markdown",
   "metadata": {},
   "source": [
    "# Operation to DataFrame"
   ]
  },
  {
   "cell_type": "code",
   "execution_count": 1,
   "metadata": {},
   "outputs": [
    {
     "name": "stdout",
     "output_type": "stream",
     "text": [
      "   BGC        Date  PID  Signal_idx      Time\n",
      "0  6.4  2017-12-23    1           0  06-38-22\n",
      "1  6.5  2017-12-23    1           1  09-38-22\n",
      "2  6.6  2017-12-23    2           2  12-38-22\n",
      "3  6.7  2017-12-23    3           4  15-38-22\n"
     ]
    }
   ],
   "source": [
    "import pandas as pd\n",
    "\n",
    "\n",
    "df = pd.DataFrame({\n",
    "        'PID': [1, 1, 2, 3],\n",
    "        'Date': ['2017-12-23', '2017-12-23', '2017-12-23', '2017-12-23'],\n",
    "        'Time': ['06-38-22', '09-38-22', '12-38-22', '15-38-22'],\n",
    "        'BGC': [6.4, 6.5, 6.6, 6.7],\n",
    "        'Signal_idx': [0, 1, 2, 4]\n",
    "})\n",
    "\n",
    "print(df)"
   ]
  },
  {
   "cell_type": "code",
   "execution_count": 2,
   "metadata": {},
   "outputs": [
    {
     "name": "stdout",
     "output_type": "stream",
     "text": [
      "   BGC        Date  PID  Signal_idx      Time\n",
      "3  6.7  2017-12-23    3           4  15-38-22\n",
      "2  6.6  2017-12-23    2           2  12-38-22\n",
      "1  6.5  2017-12-23    1           1  09-38-22\n",
      "0  6.4  2017-12-23    1           0  06-38-22\n"
     ]
    }
   ],
   "source": [
    "df = df.reindex([3, 2, 1, 0])\n",
    "print(df)"
   ]
  },
  {
   "cell_type": "markdown",
   "metadata": {},
   "source": [
    "## 切片（返回DataFrame)"
   ]
  },
  {
   "cell_type": "markdown",
   "metadata": {},
   "source": [
    "按行选取"
   ]
  },
  {
   "cell_type": "code",
   "execution_count": 3,
   "metadata": {},
   "outputs": [
    {
     "name": "stdout",
     "output_type": "stream",
     "text": [
      "<class 'pandas.core.frame.DataFrame'>\n",
      "   BGC        Date  PID  Signal_idx      Time\n",
      "2  6.6  2017-12-23    2           2  12-38-22\n",
      "1  6.5  2017-12-23    1           1  09-38-22\n"
     ]
    }
   ],
   "source": [
    "sdf = df[1: 3]\n",
    "print(type(sdf))\n",
    "print(sdf)"
   ]
  },
  {
   "cell_type": "markdown",
   "metadata": {},
   "source": [
    "选取子列"
   ]
  },
  {
   "cell_type": "code",
   "execution_count": 4,
   "metadata": {},
   "outputs": [
    {
     "name": "stdout",
     "output_type": "stream",
     "text": [
      "<class 'pandas.core.frame.DataFrame'>\n",
      "   BGC  PID\n",
      "3  6.7    3\n",
      "2  6.6    2\n",
      "1  6.5    1\n",
      "0  6.4    1\n"
     ]
    }
   ],
   "source": [
    "sdf = df[['BGC', 'PID']]\n",
    "print(type(sdf))\n",
    "print(sdf)"
   ]
  },
  {
   "cell_type": "markdown",
   "metadata": {},
   "source": [
    "## 读取行 （返回Series)\n",
    "\n",
    "按行数读取"
   ]
  },
  {
   "cell_type": "code",
   "execution_count": 5,
   "metadata": {},
   "outputs": [
    {
     "name": "stdout",
     "output_type": "stream",
     "text": [
      "<class 'pandas.core.series.Series'>\n",
      "BGC                  6.6\n",
      "Date          2017-12-23\n",
      "PID                    2\n",
      "Signal_idx             2\n",
      "Time            12-38-22\n",
      "Name: 2, dtype: object\n",
      "2\n"
     ]
    }
   ],
   "source": [
    "line = df.iloc[1]\n",
    "print(type(line))\n",
    "print(line)\n",
    "print(line['PID'])"
   ]
  },
  {
   "cell_type": "markdown",
   "metadata": {},
   "source": [
    "按index读取行"
   ]
  },
  {
   "cell_type": "code",
   "execution_count": 6,
   "metadata": {},
   "outputs": [
    {
     "name": "stdout",
     "output_type": "stream",
     "text": [
      "<class 'pandas.core.series.Series'>\n",
      "BGC                  6.5\n",
      "Date          2017-12-23\n",
      "PID                    1\n",
      "Signal_idx             1\n",
      "Time            09-38-22\n",
      "Name: 1, dtype: object\n",
      "1\n"
     ]
    }
   ],
   "source": [
    "line = df.loc[1]\n",
    "print(type(line))\n",
    "print(line)\n",
    "print(line['PID'])"
   ]
  },
  {
   "cell_type": "markdown",
   "metadata": {},
   "source": [
    "## 读取列 （返回Series）"
   ]
  },
  {
   "cell_type": "code",
   "execution_count": 7,
   "metadata": {},
   "outputs": [
    {
     "name": "stdout",
     "output_type": "stream",
     "text": [
      "<class 'pandas.core.series.Series'>\n",
      "3    3\n",
      "2    2\n",
      "1    1\n",
      "0    1\n",
      "Name: PID, dtype: int64\n",
      "1\n"
     ]
    }
   ],
   "source": [
    "row = df['PID']\n",
    "print(type(row))\n",
    "print(row)\n",
    "print(row[1])"
   ]
  },
  {
   "cell_type": "code",
   "execution_count": null,
   "metadata": {},
   "outputs": [],
   "source": []
  },
  {
   "cell_type": "code",
   "execution_count": null,
   "metadata": {},
   "outputs": [],
   "source": []
  }
 ],
 "metadata": {
  "kernelspec": {
   "display_name": "Python 3",
   "language": "python",
   "name": "python3"
  },
  "language_info": {
   "codemirror_mode": {
    "name": "ipython",
    "version": 3
   },
   "file_extension": ".py",
   "mimetype": "text/x-python",
   "name": "python",
   "nbconvert_exporter": "python",
   "pygments_lexer": "ipython3",
   "version": "3.6.4"
  }
 },
 "nbformat": 4,
 "nbformat_minor": 2
}
